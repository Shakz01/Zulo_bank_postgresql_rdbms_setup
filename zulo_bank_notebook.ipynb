{
 "cells": [
  {
   "cell_type": "code",
   "execution_count": 8,
   "metadata": {},
   "outputs": [],
   "source": [
    "# Importing necessary dependencies\n",
    "import pandas as pd\n",
    "from datetime import datetime, timedelta"
   ]
  },
  {
   "cell_type": "code",
   "execution_count": 9,
   "metadata": {},
   "outputs": [],
   "source": [
    "# Reading the dataset into dataframes\n",
    "zulo_bank = pd.read_csv(r'dataset\\zulo_bank.csv')"
   ]
  },
  {
   "cell_type": "code",
   "execution_count": 10,
   "metadata": {},
   "outputs": [
    {
     "data": {
      "text/html": [
       "<div>\n",
       "<style scoped>\n",
       "    .dataframe tbody tr th:only-of-type {\n",
       "        vertical-align: middle;\n",
       "    }\n",
       "\n",
       "    .dataframe tbody tr th {\n",
       "        vertical-align: top;\n",
       "    }\n",
       "\n",
       "    .dataframe thead th {\n",
       "        text-align: right;\n",
       "    }\n",
       "</style>\n",
       "<table border=\"1\" class=\"dataframe\">\n",
       "  <thead>\n",
       "    <tr style=\"text-align: right;\">\n",
       "      <th></th>\n",
       "      <th>FullName</th>\n",
       "      <th>Email</th>\n",
       "      <th>Phone</th>\n",
       "      <th>TransactionType</th>\n",
       "      <th>Amount</th>\n",
       "      <th>TransactionDate</th>\n",
       "      <th>AccountType</th>\n",
       "      <th>Balance</th>\n",
       "      <th>OpeningDate</th>\n",
       "      <th>LoanAmount</th>\n",
       "      <th>LoanType</th>\n",
       "      <th>StartDate</th>\n",
       "      <th>EndDate</th>\n",
       "      <th>InterestRate</th>\n",
       "    </tr>\n",
       "  </thead>\n",
       "  <tbody>\n",
       "    <tr>\n",
       "      <th>0</th>\n",
       "      <td>Carol Miller</td>\n",
       "      <td>yfisher@example.org</td>\n",
       "      <td>6088279027</td>\n",
       "      <td>withdrawal</td>\n",
       "      <td>102.15</td>\n",
       "      <td>2023-04-26</td>\n",
       "      <td>Savings</td>\n",
       "      <td>5652.16</td>\n",
       "      <td>2019-08-12</td>\n",
       "      <td>NaN</td>\n",
       "      <td>NaN</td>\n",
       "      <td>NaN</td>\n",
       "      <td>NaN</td>\n",
       "      <td>NaN</td>\n",
       "    </tr>\n",
       "    <tr>\n",
       "      <th>1</th>\n",
       "      <td>Geoffrey Banks</td>\n",
       "      <td>gonzalesgeorge@example.net</td>\n",
       "      <td>001-546-857-6518x5359</td>\n",
       "      <td>withdrawal</td>\n",
       "      <td>358.80</td>\n",
       "      <td>2020-06-13</td>\n",
       "      <td>Credit</td>\n",
       "      <td>2881.24</td>\n",
       "      <td>2019-05-06</td>\n",
       "      <td>32428.90</td>\n",
       "      <td>Mortgage</td>\n",
       "      <td>2021-06-24</td>\n",
       "      <td>2050-01-08 4:59:18</td>\n",
       "      <td>2.12</td>\n",
       "    </tr>\n",
       "    <tr>\n",
       "      <th>2</th>\n",
       "      <td>Geoffrey Banks</td>\n",
       "      <td>gonzalesgeorge@example.net</td>\n",
       "      <td>001-546-857-6518x5359</td>\n",
       "      <td>withdrawal</td>\n",
       "      <td>358.80</td>\n",
       "      <td>2020-06-13</td>\n",
       "      <td>Credit</td>\n",
       "      <td>2881.24</td>\n",
       "      <td>2019-05-06</td>\n",
       "      <td>31406.77</td>\n",
       "      <td>Personal</td>\n",
       "      <td>2021-02-27</td>\n",
       "      <td>2038-10-12 4:59:18</td>\n",
       "      <td>4.63</td>\n",
       "    </tr>\n",
       "    <tr>\n",
       "      <th>3</th>\n",
       "      <td>Geoffrey Banks</td>\n",
       "      <td>gonzalesgeorge@example.net</td>\n",
       "      <td>001-546-857-6518x5359</td>\n",
       "      <td>withdrawal</td>\n",
       "      <td>358.80</td>\n",
       "      <td>2020-06-13</td>\n",
       "      <td>Credit</td>\n",
       "      <td>2881.24</td>\n",
       "      <td>2019-05-06</td>\n",
       "      <td>27834.00</td>\n",
       "      <td>Personal</td>\n",
       "      <td>2019-12-05</td>\n",
       "      <td>2037-08-15 4:59:18</td>\n",
       "      <td>2.15</td>\n",
       "    </tr>\n",
       "    <tr>\n",
       "      <th>4</th>\n",
       "      <td>Geoffrey Banks</td>\n",
       "      <td>gonzalesgeorge@example.net</td>\n",
       "      <td>001-546-857-6518x5359</td>\n",
       "      <td>withdrawal</td>\n",
       "      <td>358.80</td>\n",
       "      <td>2020-06-13</td>\n",
       "      <td>Credit</td>\n",
       "      <td>2881.24</td>\n",
       "      <td>2019-05-06</td>\n",
       "      <td>27873.08</td>\n",
       "      <td>Auto</td>\n",
       "      <td>2022-01-19</td>\n",
       "      <td>2037-06-03 4:59:18</td>\n",
       "      <td>7.03</td>\n",
       "    </tr>\n",
       "  </tbody>\n",
       "</table>\n",
       "</div>"
      ],
      "text/plain": [
       "         FullName                       Email                  Phone  \\\n",
       "0    Carol Miller         yfisher@example.org             6088279027   \n",
       "1  Geoffrey Banks  gonzalesgeorge@example.net  001-546-857-6518x5359   \n",
       "2  Geoffrey Banks  gonzalesgeorge@example.net  001-546-857-6518x5359   \n",
       "3  Geoffrey Banks  gonzalesgeorge@example.net  001-546-857-6518x5359   \n",
       "4  Geoffrey Banks  gonzalesgeorge@example.net  001-546-857-6518x5359   \n",
       "\n",
       "  TransactionType  Amount TransactionDate AccountType  Balance OpeningDate  \\\n",
       "0      withdrawal  102.15      2023-04-26     Savings  5652.16  2019-08-12   \n",
       "1      withdrawal  358.80      2020-06-13      Credit  2881.24  2019-05-06   \n",
       "2      withdrawal  358.80      2020-06-13      Credit  2881.24  2019-05-06   \n",
       "3      withdrawal  358.80      2020-06-13      Credit  2881.24  2019-05-06   \n",
       "4      withdrawal  358.80      2020-06-13      Credit  2881.24  2019-05-06   \n",
       "\n",
       "   LoanAmount  LoanType   StartDate             EndDate  InterestRate  \n",
       "0         NaN       NaN         NaN                 NaN           NaN  \n",
       "1    32428.90  Mortgage  2021-06-24  2050-01-08 4:59:18          2.12  \n",
       "2    31406.77  Personal  2021-02-27  2038-10-12 4:59:18          4.63  \n",
       "3    27834.00  Personal  2019-12-05  2037-08-15 4:59:18          2.15  \n",
       "4    27873.08      Auto  2022-01-19  2037-06-03 4:59:18          7.03  "
      ]
     },
     "metadata": {},
     "output_type": "display_data"
    }
   ],
   "source": [
    "# Viewing the first 5 rows\n",
    "display(zulo_bank.head())"
   ]
  },
  {
   "cell_type": "code",
   "execution_count": 11,
   "metadata": {},
   "outputs": [
    {
     "name": "stdout",
     "output_type": "stream",
     "text": [
      "<class 'pandas.core.frame.DataFrame'>\n",
      "RangeIndex: 1554 entries, 0 to 1553\n",
      "Data columns (total 14 columns):\n",
      " #   Column           Non-Null Count  Dtype  \n",
      "---  ------           --------------  -----  \n",
      " 0   FullName         1554 non-null   object \n",
      " 1   Email            1554 non-null   object \n",
      " 2   Phone            1554 non-null   object \n",
      " 3   TransactionType  1554 non-null   object \n",
      " 4   Amount           1554 non-null   float64\n",
      " 5   TransactionDate  1554 non-null   object \n",
      " 6   AccountType      1554 non-null   object \n",
      " 7   Balance          1554 non-null   float64\n",
      " 8   OpeningDate      1554 non-null   object \n",
      " 9   LoanAmount       1278 non-null   float64\n",
      " 10  LoanType         1278 non-null   object \n",
      " 11  StartDate        1278 non-null   object \n",
      " 12  EndDate          1278 non-null   object \n",
      " 13  InterestRate     1278 non-null   float64\n",
      "dtypes: float64(4), object(10)\n",
      "memory usage: 170.1+ KB\n"
     ]
    }
   ],
   "source": [
    "# Check the data info\n",
    "zulo_bank.info()"
   ]
  },
  {
   "cell_type": "code",
   "execution_count": 12,
   "metadata": {},
   "outputs": [],
   "source": [
    "# Fill up missing values in the LoanType-InteresRate with appropriate parameter\n",
    "zulo_bank.fillna({\n",
    "    'LoanAmount': 0.0,\n",
    "    'LoanType': 'Unknown',\n",
    "    'InterestRate': '0.0'\n",
    "}, inplace=True)\n"
   ]
  },
  {
   "cell_type": "code",
   "execution_count": 13,
   "metadata": {},
   "outputs": [
    {
     "data": {
      "text/html": [
       "<div>\n",
       "<style scoped>\n",
       "    .dataframe tbody tr th:only-of-type {\n",
       "        vertical-align: middle;\n",
       "    }\n",
       "\n",
       "    .dataframe tbody tr th {\n",
       "        vertical-align: top;\n",
       "    }\n",
       "\n",
       "    .dataframe thead th {\n",
       "        text-align: right;\n",
       "    }\n",
       "</style>\n",
       "<table border=\"1\" class=\"dataframe\">\n",
       "  <thead>\n",
       "    <tr style=\"text-align: right;\">\n",
       "      <th></th>\n",
       "      <th>FullName</th>\n",
       "      <th>Email</th>\n",
       "      <th>Phone</th>\n",
       "      <th>TransactionType</th>\n",
       "      <th>Amount</th>\n",
       "      <th>TransactionDate</th>\n",
       "      <th>AccountType</th>\n",
       "      <th>Balance</th>\n",
       "      <th>OpeningDate</th>\n",
       "      <th>LoanAmount</th>\n",
       "      <th>LoanType</th>\n",
       "      <th>StartDate</th>\n",
       "      <th>EndDate</th>\n",
       "      <th>InterestRate</th>\n",
       "      <th>first_name</th>\n",
       "      <th>last_name</th>\n",
       "    </tr>\n",
       "  </thead>\n",
       "  <tbody>\n",
       "    <tr>\n",
       "      <th>0</th>\n",
       "      <td>Carol Miller</td>\n",
       "      <td>yfisher@example.org</td>\n",
       "      <td>6088279027</td>\n",
       "      <td>withdrawal</td>\n",
       "      <td>102.15</td>\n",
       "      <td>2023-04-26</td>\n",
       "      <td>Savings</td>\n",
       "      <td>5652.16</td>\n",
       "      <td>2019-08-12</td>\n",
       "      <td>0.00</td>\n",
       "      <td>Unknown</td>\n",
       "      <td>NaN</td>\n",
       "      <td>NaN</td>\n",
       "      <td>0.0</td>\n",
       "      <td>Carol</td>\n",
       "      <td>Miller</td>\n",
       "    </tr>\n",
       "    <tr>\n",
       "      <th>1</th>\n",
       "      <td>Geoffrey Banks</td>\n",
       "      <td>gonzalesgeorge@example.net</td>\n",
       "      <td>001-546-857-6518x5359</td>\n",
       "      <td>withdrawal</td>\n",
       "      <td>358.80</td>\n",
       "      <td>2020-06-13</td>\n",
       "      <td>Credit</td>\n",
       "      <td>2881.24</td>\n",
       "      <td>2019-05-06</td>\n",
       "      <td>32428.90</td>\n",
       "      <td>Mortgage</td>\n",
       "      <td>2021-06-24</td>\n",
       "      <td>2050-01-08 4:59:18</td>\n",
       "      <td>2.12</td>\n",
       "      <td>Geoffrey</td>\n",
       "      <td>Banks</td>\n",
       "    </tr>\n",
       "    <tr>\n",
       "      <th>2</th>\n",
       "      <td>Geoffrey Banks</td>\n",
       "      <td>gonzalesgeorge@example.net</td>\n",
       "      <td>001-546-857-6518x5359</td>\n",
       "      <td>withdrawal</td>\n",
       "      <td>358.80</td>\n",
       "      <td>2020-06-13</td>\n",
       "      <td>Credit</td>\n",
       "      <td>2881.24</td>\n",
       "      <td>2019-05-06</td>\n",
       "      <td>31406.77</td>\n",
       "      <td>Personal</td>\n",
       "      <td>2021-02-27</td>\n",
       "      <td>2038-10-12 4:59:18</td>\n",
       "      <td>4.63</td>\n",
       "      <td>Geoffrey</td>\n",
       "      <td>Banks</td>\n",
       "    </tr>\n",
       "    <tr>\n",
       "      <th>3</th>\n",
       "      <td>Geoffrey Banks</td>\n",
       "      <td>gonzalesgeorge@example.net</td>\n",
       "      <td>001-546-857-6518x5359</td>\n",
       "      <td>withdrawal</td>\n",
       "      <td>358.80</td>\n",
       "      <td>2020-06-13</td>\n",
       "      <td>Credit</td>\n",
       "      <td>2881.24</td>\n",
       "      <td>2019-05-06</td>\n",
       "      <td>27834.00</td>\n",
       "      <td>Personal</td>\n",
       "      <td>2019-12-05</td>\n",
       "      <td>2037-08-15 4:59:18</td>\n",
       "      <td>2.15</td>\n",
       "      <td>Geoffrey</td>\n",
       "      <td>Banks</td>\n",
       "    </tr>\n",
       "    <tr>\n",
       "      <th>4</th>\n",
       "      <td>Geoffrey Banks</td>\n",
       "      <td>gonzalesgeorge@example.net</td>\n",
       "      <td>001-546-857-6518x5359</td>\n",
       "      <td>withdrawal</td>\n",
       "      <td>358.80</td>\n",
       "      <td>2020-06-13</td>\n",
       "      <td>Credit</td>\n",
       "      <td>2881.24</td>\n",
       "      <td>2019-05-06</td>\n",
       "      <td>27873.08</td>\n",
       "      <td>Auto</td>\n",
       "      <td>2022-01-19</td>\n",
       "      <td>2037-06-03 4:59:18</td>\n",
       "      <td>7.03</td>\n",
       "      <td>Geoffrey</td>\n",
       "      <td>Banks</td>\n",
       "    </tr>\n",
       "  </tbody>\n",
       "</table>\n",
       "</div>"
      ],
      "text/plain": [
       "         FullName                       Email                  Phone  \\\n",
       "0    Carol Miller         yfisher@example.org             6088279027   \n",
       "1  Geoffrey Banks  gonzalesgeorge@example.net  001-546-857-6518x5359   \n",
       "2  Geoffrey Banks  gonzalesgeorge@example.net  001-546-857-6518x5359   \n",
       "3  Geoffrey Banks  gonzalesgeorge@example.net  001-546-857-6518x5359   \n",
       "4  Geoffrey Banks  gonzalesgeorge@example.net  001-546-857-6518x5359   \n",
       "\n",
       "  TransactionType  Amount TransactionDate AccountType  Balance OpeningDate  \\\n",
       "0      withdrawal  102.15      2023-04-26     Savings  5652.16  2019-08-12   \n",
       "1      withdrawal  358.80      2020-06-13      Credit  2881.24  2019-05-06   \n",
       "2      withdrawal  358.80      2020-06-13      Credit  2881.24  2019-05-06   \n",
       "3      withdrawal  358.80      2020-06-13      Credit  2881.24  2019-05-06   \n",
       "4      withdrawal  358.80      2020-06-13      Credit  2881.24  2019-05-06   \n",
       "\n",
       "   LoanAmount  LoanType   StartDate             EndDate InterestRate  \\\n",
       "0        0.00   Unknown         NaN                 NaN          0.0   \n",
       "1    32428.90  Mortgage  2021-06-24  2050-01-08 4:59:18         2.12   \n",
       "2    31406.77  Personal  2021-02-27  2038-10-12 4:59:18         4.63   \n",
       "3    27834.00  Personal  2019-12-05  2037-08-15 4:59:18         2.15   \n",
       "4    27873.08      Auto  2022-01-19  2037-06-03 4:59:18         7.03   \n",
       "\n",
       "  first_name last_name  \n",
       "0      Carol    Miller  \n",
       "1   Geoffrey     Banks  \n",
       "2   Geoffrey     Banks  \n",
       "3   Geoffrey     Banks  \n",
       "4   Geoffrey     Banks  "
      ]
     },
     "metadata": {},
     "output_type": "display_data"
    }
   ],
   "source": [
    "# Convert to 1NF (Normal form)\n",
    "#Slitting the full name into two parts 'first_name' and 'last_name'\n",
    "zulo_bank[['first_name', 'last_name']] = zulo_bank['FullName'].str.split(expand=True)\n",
    "\n",
    "display(zulo_bank.head())"
   ]
  },
  {
   "cell_type": "markdown",
   "metadata": {},
   "source": [
    "### Converting from 1NF to 2NF (second normal form)"
   ]
  },
  {
   "cell_type": "code",
   "execution_count": 14,
   "metadata": {},
   "outputs": [],
   "source": [
    "\n",
    "# Creating a Customers table from the Zulo bank dataset\n",
    "customers = zulo_bank[['first_name', 'last_name', 'Email', 'Phone']].copy().drop_duplicates().reset_index(drop=True)\n",
    "# Creating the customer_id column\n",
    "customers['customer_id'] = range(1, len(customers) + 1)\n",
    "# Group the slized and created colums together\n",
    "customers = customers[['customer_id', 'first_name', 'last_name', 'Email', 'Phone']]"
   ]
  },
  {
   "cell_type": "code",
   "execution_count": 15,
   "metadata": {},
   "outputs": [],
   "source": [
    "# Creating a Accounts table from the Zulo bank dataset\n",
    "accounts = zulo_bank[['AccountType', 'Balance', 'OpeningDate']].copy().drop_duplicates().reset_index(drop=True)\n",
    "accounts['account_id'] = range(1, len(accounts) + 1)\n",
    "accounts = accounts[['account_id', 'AccountType', 'Balance', 'OpeningDate']]"
   ]
  },
  {
   "cell_type": "code",
   "execution_count": 16,
   "metadata": {},
   "outputs": [],
   "source": [
    "# Creating a Transactions table from the Zulo bank dataset \n",
    "transactions = zulo_bank[['TransactionType', 'Amount', 'TransactionDate']].copy().drop_duplicates().reset_index(drop=True)\n",
    "transactions['transaction_id'] = range(1, len(transactions) + 1)\n",
    "transactions = transactions[['transaction_id', 'TransactionType', 'Amount', 'TransactionDate']]"
   ]
  },
  {
   "cell_type": "code",
   "execution_count": 17,
   "metadata": {},
   "outputs": [],
   "source": [
    "# Creating a loans table from the Zulo bank dataset \n",
    "loans = zulo_bank[['LoanAmount', 'LoanType', 'StartDate', 'EndDate', 'InterestRate']].copy().drop_duplicates().reset_index(drop=True)\n",
    "loans['loan_id'] = range(1, len(loans) + 1)\n",
    "loans = loans[['loan_id', 'LoanAmount', 'LoanType', 'StartDate', 'EndDate', 'InterestRate']]\n",
    "\n"
   ]
  },
  {
   "cell_type": "code",
   "execution_count": 18,
   "metadata": {},
   "outputs": [],
   "source": [
    "# To carry out Zulo bank table, we use what id called merge operation.\n",
    "# MERGE OPERATION\n",
    "zulo_bank =zulo_bank.merge(customers, on = ['first_name', 'last_name', 'Email', 'Phone'], how = 'left') \\\n",
    "                    .merge(accounts, on = ['AccountType', 'Balance', 'OpeningDate'], how = 'left') \\\n",
    "                    .merge(transactions, on = ['TransactionType', 'Amount', 'TransactionDate'], how = 'left') \\\n",
    "                    .merge(loans, on = ['LoanAmount', 'LoanType', 'StartDate', 'EndDate', 'InterestRate'], how = 'left') \\\n",
    "                    [['customer_id', 'account_id', 'transaction_id', 'loan_id']]\n",
    "                    "
   ]
  },
  {
   "cell_type": "code",
   "execution_count": 19,
   "metadata": {},
   "outputs": [
    {
     "data": {
      "text/html": [
       "<div>\n",
       "<style scoped>\n",
       "    .dataframe tbody tr th:only-of-type {\n",
       "        vertical-align: middle;\n",
       "    }\n",
       "\n",
       "    .dataframe tbody tr th {\n",
       "        vertical-align: top;\n",
       "    }\n",
       "\n",
       "    .dataframe thead th {\n",
       "        text-align: right;\n",
       "    }\n",
       "</style>\n",
       "<table border=\"1\" class=\"dataframe\">\n",
       "  <thead>\n",
       "    <tr style=\"text-align: right;\">\n",
       "      <th></th>\n",
       "      <th>customer_id</th>\n",
       "      <th>account_id</th>\n",
       "      <th>transaction_id</th>\n",
       "      <th>loan_id</th>\n",
       "    </tr>\n",
       "  </thead>\n",
       "  <tbody>\n",
       "    <tr>\n",
       "      <th>0</th>\n",
       "      <td>1</td>\n",
       "      <td>1</td>\n",
       "      <td>1</td>\n",
       "      <td>1</td>\n",
       "    </tr>\n",
       "    <tr>\n",
       "      <th>1</th>\n",
       "      <td>2</td>\n",
       "      <td>2</td>\n",
       "      <td>2</td>\n",
       "      <td>2</td>\n",
       "    </tr>\n",
       "    <tr>\n",
       "      <th>2</th>\n",
       "      <td>2</td>\n",
       "      <td>2</td>\n",
       "      <td>2</td>\n",
       "      <td>3</td>\n",
       "    </tr>\n",
       "    <tr>\n",
       "      <th>3</th>\n",
       "      <td>2</td>\n",
       "      <td>2</td>\n",
       "      <td>2</td>\n",
       "      <td>4</td>\n",
       "    </tr>\n",
       "    <tr>\n",
       "      <th>4</th>\n",
       "      <td>2</td>\n",
       "      <td>2</td>\n",
       "      <td>2</td>\n",
       "      <td>5</td>\n",
       "    </tr>\n",
       "    <tr>\n",
       "      <th>...</th>\n",
       "      <td>...</td>\n",
       "      <td>...</td>\n",
       "      <td>...</td>\n",
       "      <td>...</td>\n",
       "    </tr>\n",
       "    <tr>\n",
       "      <th>1549</th>\n",
       "      <td>20</td>\n",
       "      <td>165</td>\n",
       "      <td>997</td>\n",
       "      <td>29</td>\n",
       "    </tr>\n",
       "    <tr>\n",
       "      <th>1550</th>\n",
       "      <td>20</td>\n",
       "      <td>165</td>\n",
       "      <td>997</td>\n",
       "      <td>30</td>\n",
       "    </tr>\n",
       "    <tr>\n",
       "      <th>1551</th>\n",
       "      <td>25</td>\n",
       "      <td>94</td>\n",
       "      <td>998</td>\n",
       "      <td>1</td>\n",
       "    </tr>\n",
       "    <tr>\n",
       "      <th>1552</th>\n",
       "      <td>5</td>\n",
       "      <td>68</td>\n",
       "      <td>999</td>\n",
       "      <td>11</td>\n",
       "    </tr>\n",
       "    <tr>\n",
       "      <th>1553</th>\n",
       "      <td>6</td>\n",
       "      <td>76</td>\n",
       "      <td>1000</td>\n",
       "      <td>12</td>\n",
       "    </tr>\n",
       "  </tbody>\n",
       "</table>\n",
       "<p>1554 rows × 4 columns</p>\n",
       "</div>"
      ],
      "text/plain": [
       "      customer_id  account_id  transaction_id  loan_id\n",
       "0               1           1               1        1\n",
       "1               2           2               2        2\n",
       "2               2           2               2        3\n",
       "3               2           2               2        4\n",
       "4               2           2               2        5\n",
       "...           ...         ...             ...      ...\n",
       "1549           20         165             997       29\n",
       "1550           20         165             997       30\n",
       "1551           25          94             998        1\n",
       "1552            5          68             999       11\n",
       "1553            6          76            1000       12\n",
       "\n",
       "[1554 rows x 4 columns]"
      ]
     },
     "execution_count": 19,
     "metadata": {},
     "output_type": "execute_result"
    }
   ],
   "source": [
    "zulo_bank"
   ]
  },
  {
   "cell_type": "markdown",
   "metadata": {},
   "source": [
    "## To Convert from 2NF TO 3NF (Second Normal Form to Third Normal Form)"
   ]
  },
  {
   "cell_type": "markdown",
   "metadata": {},
   "source": [
    "# Create date dimension table\n",
    "# Define the start and end dates"
   ]
  },
  {
   "cell_type": "code",
   "execution_count": 20,
   "metadata": {},
   "outputs": [],
   "source": [
    "start_date = datetime(2020, 1, 1)\n",
    "current_date = datetime(2090, 12, 31)\n",
    "\n",
    "# calculate the number of date between the start and end date\n",
    "num_days = (current_date - start_date).days\n",
    "\n",
    "# Generate a list of dates from start date to current date\n",
    "date_list = [start_date + timedelta(days = x) for x in range(num_days + 1)]\n",
    "\n",
    "# Ensure date_id matches the length of the date list\n",
    "date = {'date_id': [x for x in range(1, len(date_list) + 1)], 'date': date_list}\n",
    "\n",
    "# Create dataframe\n",
    "date_dim = pd.DataFrame(date)\n",
    "date_dim['Year'] = date_dim['date'].dt.year\n",
    "date_dim['Month'] = date_dim['date'].dt.month\n",
    "date_dim['Day'] = date_dim['date'].dt.day\n",
    "date_dim['date'] = pd.to_datetime(date_dim['date']).dt.date\n",
    "# This code will create a DataFrame date_dim with date_id, date, Year, Month, and Day columns"
   ]
  },
  {
   "cell_type": "code",
   "execution_count": 21,
   "metadata": {},
   "outputs": [],
   "source": [
    "# Accounts table 2NF to 3NF\n",
    "# merge the account table with the date dimension table\n",
    "\n",
    "accounts['OpeningDate'] = pd.to_datetime(accounts['OpeningDate']).dt.date\n",
    "accounts = accounts.merge(date_dim, left_on= 'OpeningDate', right_on= 'date', how='inner') \\\n",
    "                    .rename(columns={'date_id' : 'OpeningDate_ID'}) \\\n",
    "                    .reset_index(drop=True) \\\n",
    "                    [['account_id', 'AccountType', 'Balance', 'OpeningDate_ID']]"
   ]
  },
  {
   "cell_type": "code",
   "execution_count": 22,
   "metadata": {},
   "outputs": [],
   "source": [
    "# Transactions table 2NF to 3NF\n",
    "transactions['TransactionDate'] = pd.to_datetime(transactions['TransactionDate']).dt.date\n",
    "transactions = transactions.merge(date_dim, left_on = 'TransactionDate', right_on = 'date', how = 'inner') \\\n",
    "                            .rename(columns={'date_id':'TransactionDate_ID'}) \\\n",
    "                            .reset_index(drop=True) \\\n",
    "                            [['transaction_id', 'TransactionType', 'Amount', 'TransactionDate_ID']]"
   ]
  },
  {
   "cell_type": "code",
   "execution_count": 23,
   "metadata": {},
   "outputs": [],
   "source": [
    "# loans table 2NF to 3NF\n",
    "loans['StartDate'] = pd.to_datetime(loans['StartDate']).dt.date\n",
    "loans['EndDate'] = pd.to_datetime(loans['EndDate']).dt.date\n",
    "loans = loans.merge(date_dim, left_on = 'StartDate', right_on = 'date', how = 'inner') \\\n",
    "                            .rename(columns={'date_id':'StartDate_ID'}) \\\n",
    "                            .merge(date_dim, left_on = 'EndDate', right_on = 'date', how = 'inner', suffixes= ('', '_end')) \\\n",
    "                            .rename(columns={'date_id':'EndDate_ID'}) \\\n",
    "                            .reset_index(drop=True) \\\n",
    "                            [['loan_id', 'LoanAmount', 'LoanType', 'StartDate_ID', 'EndDate_ID', 'InterestRate']]\n",
    "                            "
   ]
  },
  {
   "cell_type": "code",
   "execution_count": 24,
   "metadata": {},
   "outputs": [],
   "source": [
    "# Save to our directory\n",
    "transactions.to_csv(r'dataset\\database_model\\transactions.csv', index=False)\n",
    "loans.to_csv(r'dataset\\database_model\\loans.csv', index=False)\n",
    "accounts.to_csv(r'dataset\\database_model\\accounts.csv', index=False)\n",
    "customers.to_csv(r'dataset\\database_model\\customers.csv', index=False)\n",
    "date_dim.to_csv(r'dataset\\database_model\\date_dim.csv', index=False)\n",
    "zulo_bank.to_csv(r'dataset\\database_model\\fact_table.csv', index=False)"
   ]
  },
  {
   "cell_type": "code",
   "execution_count": 25,
   "metadata": {},
   "outputs": [
    {
     "data": {
      "text/plain": [
       "Index(['customer_id', 'account_id', 'transaction_id', 'loan_id'], dtype='object')"
      ]
     },
     "execution_count": 25,
     "metadata": {},
     "output_type": "execute_result"
    }
   ],
   "source": [
    "zulo_bank.columns"
   ]
  },
  {
   "cell_type": "markdown",
   "metadata": {},
   "source": [
    "# Transaction DWH Schema\n"
   ]
  },
  {
   "cell_type": "code",
   "execution_count": 26,
   "metadata": {},
   "outputs": [],
   "source": [
    "transaction_dim = transactions[['transaction_id', 'TransactionType']].copy().drop_duplicates().reset_index(drop=True)\n",
    "account_dim = accounts[['account_id', 'AccountType', 'Balance']].copy().drop_duplicates().reset_index(drop=True)\n",
    "\n",
    "transaction_fact_table =zulo_bank.merge(transactions, on ='transaction_id', how= 'inner') \\\n",
    "                                .merge(accounts, on = 'account_id', how= 'inner') \\\n",
    "                                [['transaction_id', 'account_id', 'OpeningDate_ID', 'Amount']]"
   ]
  },
  {
   "cell_type": "code",
   "execution_count": 27,
   "metadata": {},
   "outputs": [],
   "source": [
    "# Save to memory\n",
    "transaction_dim.to_csv(r'dataset\\transaction_dwh\\transaction_dim.csv', index=False)\n",
    "account_dim.to_csv(r'dataset\\transaction_dwh\\account_dim.csv', index=False)\n",
    "transaction_fact_table.to_csv(r'dataset\\transaction_dwh\\transaction_fact_table.csv', index=False)"
   ]
  },
  {
   "cell_type": "markdown",
   "metadata": {},
   "source": [
    "# Loan DWH Schema"
   ]
  },
  {
   "cell_type": "code",
   "execution_count": 28,
   "metadata": {},
   "outputs": [],
   "source": [
    "customer_dim = customers.copy()\n",
    "loan_dim = loans[['loan_id', 'LoanType']].copy().drop_duplicates().reset_index(drop=True)\n",
    "\n",
    "loan_fact_table =zulo_bank.merge(customers, on ='customer_id', how= 'inner') \\\n",
    "                                .merge(loans, on = 'loan_id', how= 'inner') \\\n",
    "                                [['loan_id', 'customer_id', 'StartDate_ID', 'EndDate_ID', 'LoanAmount', 'InterestRate']]"
   ]
  },
  {
   "cell_type": "code",
   "execution_count": 29,
   "metadata": {},
   "outputs": [],
   "source": [
    "# Save to memory\n",
    "loan_dim.to_csv(r'dataset\\loan_dwh\\loan_dim.csv', index=False)\n",
    "customer_dim.to_csv(r'dataset\\loan_dwh\\customer_dim.csv', index=False)\n",
    "loan_fact_table.to_csv(r'dataset\\loan_dwh\\loan_fact_table.csv', index=False)"
   ]
  },
  {
   "cell_type": "markdown",
   "metadata": {},
   "source": [
    "# Loading into the RDBMS using psycopg2"
   ]
  },
  {
   "cell_type": "code",
   "execution_count": 30,
   "metadata": {},
   "outputs": [
    {
     "name": "stdout",
     "output_type": "stream",
     "text": [
      "Requirement already satisfied: psycopg2 in c:\\users\\dell\\anaconda3\\lib\\site-packages (2.9.9)\n"
     ]
    }
   ],
   "source": [
    "!pip install psycopg2"
   ]
  },
  {
   "cell_type": "code",
   "execution_count": 31,
   "metadata": {},
   "outputs": [],
   "source": [
    "import psycopg2"
   ]
  },
  {
   "cell_type": "code",
   "execution_count": 32,
   "metadata": {},
   "outputs": [
    {
     "name": "stdout",
     "output_type": "stream",
     "text": [
      "Database {db_params['database']} exists\n"
     ]
    }
   ],
   "source": [
    "# Define database connection parameters including the database name\n",
    "db_params = {\n",
    "    'username' : 'postgres',\n",
    "    'password' : 'uricasrajo', \n",
    "    'host' : 'localhost',\n",
    "    'port' : '5432',\n",
    "    'database' : 'zulo_bank'\n",
    "}\n",
    "\n",
    "#Define default db connection\n",
    "default_db_url = f\"postgresql://{db_params['username']}:{db_params['password']}@{db_params['host']}:{db_params['port']}/postgres\"\n",
    "\n",
    "# Attempt to create a database\n",
    "try:\n",
    "    # Open the connection\n",
    "    conn = psycopg2.connect(default_db_url)\n",
    "    conn.autocommit = True\n",
    "    cur = conn.cursor()\n",
    "    # check if the database alredy exists\n",
    "    cur.execute(f\"SELECT 1 FROM pg_catalog.pg_database WHERE datname = '{db_params['database']}'\")\n",
    "    exist = cur.fetchone()\n",
    "    if not exist:\n",
    "        #create the database\n",
    "        cur.execute(f\"CREATE DATABASE {db_params['database']}\")\n",
    "        print(f\"Database {db_params['database']} created successfully\")\n",
    "    else:\n",
    "        print(\"Database {db_params['database']} exists\")\n",
    "        # Close the connection\n",
    "        cur.close()\n",
    "        conn.close()\n",
    "except Exception as e:\n",
    "    print(f\"An error occured: {e}\")\n",
    "\n"
   ]
  },
  {
   "cell_type": "code",
   "execution_count": 42,
   "metadata": {},
   "outputs": [],
   "source": [
    "# Connect to the newly created (or existing) database to create schema and tables\n",
    "def get_db_connection():\n",
    "    connection = psycopg2.connect(\n",
    "        host = 'localhost',\n",
    "        database = 'zulo_bank',\n",
    "        user = 'postgres',\n",
    "        password = 'uricasrajo'\n",
    "    )\n",
    "    return connection\n",
    "\n",
    "conn = get_db_connection()\n",
    "    \n"
   ]
  },
  {
   "cell_type": "code",
   "execution_count": 59,
   "metadata": {},
   "outputs": [],
   "source": [
    "# Create schema and tables\n",
    "def create_tables():\n",
    "    conn = get_db_connection()\n",
    "    cursor = conn.cursor()\n",
    "    create_table_query = '''\n",
    "                            CREATE SCHEMA IF NOT EXISTS zulobankdb;\n",
    "                                                       \n",
    "                            DROP TABLE IF EXISTS zulobankdb.transctions CASCADE;\n",
    "                            DROP TABLE IF EXISTS zulobankdb.accounts CASCADE;\n",
    "                            DROP TABLE IF EXISTS zulobankdb.customers CASCADE;\n",
    "                            DROP TABLE IF EXISTS zulobankdb.date_dim CASCADE;\n",
    "                            DROP TABLE IF EXISTS zulobankdb.loans CASCADE;\n",
    "                            DROP TABLE IF EXISTS zulobankdb.zulo_fact_table CASCADE;\n",
    "\n",
    "                            CREATE TABLE IF NOT EXISTS zulobankdb.date_dim(\n",
    "                                date_id SERIAL PRIMARY KEY,\n",
    "                                date VARCHAR(10000),\n",
    "                                Year INTEGER,\n",
    "                                Month INTEGER,\n",
    "                                Day INTEGER\n",
    "                            );\n",
    "\n",
    "                              CREATE TABLE IF NOT EXISTS zulobankdb.transactions(\n",
    "                                transaction_id SERIAL PRIMARY KEY,\n",
    "                                TransactionType VARCHAR(10000),\n",
    "                                Amount FLOAT,\n",
    "                                TransactionDate_ID INTEGER,\n",
    "                                FOREIGN KEY (transaction_id)REFERENCES zulobankdb.date_dim(date_id)\n",
    "                            );\n",
    "\n",
    "                            CREATE TABLE IF NOT EXISTS zulobankdb.accounts(\n",
    "                                account_id SERIAL PRIMARY KEY,\n",
    "                                AccountType VARCHAR(10000),\n",
    "                                Balance FLOAT,\n",
    "                                OpeningDate_ID INTEGER,\n",
    "                                FOREIGN KEY (OpeningDate_ID)REFERENCES zulobankdb.date_dim(date_id)\n",
    "                            );\n",
    "\n",
    "                             CREATE TABLE IF NOT EXISTS zulobankdb.loans(\n",
    "                                loan_id SERIAL PRIMARY KEY,\n",
    "                                LoanAmount FLOAT,\n",
    "                                LoanType VARCHAR(10000),\n",
    "                                StartDate_ID INTEGER,\n",
    "                                EndDate_ID INTEGER,\n",
    "                                InterestRate FLOAT,\n",
    "                                FOREIGN KEY (StartDate_ID) REFERENCES zulobankdb.date_dim(date_id),\n",
    "                                FOREIGN KEY (EndDate_ID) REFERENCES zulobankdb.date_dim(date_id)\n",
    "                            );\n",
    "\n",
    "                             CREATE TABLE IF NOT EXISTS zulobankdb.customers(\n",
    "                                customer_id SERIAL PRIMARY KEY,\n",
    "                                first_name VARCHAR(10000),\n",
    "                                last_name VARCHAR(10000),\n",
    "                                Phone VARCHAR(10000),\n",
    "                                Email VARCHAR(10000)\n",
    "                            );\n",
    "\n",
    "                            CREATE TABLE IF NOT EXISTS zulobankdb.zulo_fact_table(\n",
    "                                customer_id INTEGER,\n",
    "                                account_id INTEGER,\n",
    "                                transaction_id INTEGER,\n",
    "                                loan_id INTEGER,\n",
    "                                FOREIGN KEY (customer_id) REFERENCES zulobankdb.customers(customer_id),\n",
    "                                FOREIGN KEY (account_id) REFERENCES zulobankdb.accounts(account_id),\n",
    "                                FOREIGN KEY (transaction_id) REFERENCES zulobankdb.transactions(transaction_id),\n",
    "                                FOREIGN KEY (loan_id) REFERENCES zulobankdb.loans(loan_id)\n",
    "                                );'''\n",
    "    \n",
    "    cursor.execute(create_table_query)\n",
    "    conn.commit()\n",
    "    cursor.close()\n",
    "    conn.close\n"
   ]
  },
  {
   "cell_type": "code",
   "execution_count": 60,
   "metadata": {},
   "outputs": [],
   "source": [
    "create_tables()"
   ]
  },
  {
   "cell_type": "code",
   "execution_count": 69,
   "metadata": {},
   "outputs": [
    {
     "name": "stdout",
     "output_type": "stream",
     "text": [
      "dim_table data loaded successfully\n"
     ]
    }
   ],
   "source": [
    "# Loading the data\n",
    "# date_dim table\n",
    "import csv\n",
    "def load_data_from_csv(csv_path):\n",
    "    conn =  get_db_connection()\n",
    "    cursor = conn.cursor()\n",
    "    with open(csv_path, 'r') as file:\n",
    "        reader = csv.reader(file)\n",
    "        next(reader)\n",
    "        for row in reader:\n",
    "            cursor.execute(\n",
    "                '''INSERT INTO zulobankdb.date_dim (date_id, date, Year, Month, Day)\n",
    "                    VALUES (%s, %s, %s, %s, %s);''',\n",
    "                    row\n",
    "            )\n",
    "    conn.commit()\n",
    "    cursor.close()\n",
    "    conn.close()\n",
    "\n",
    "# Provide the csv path to the file\n",
    "csv_file_path = r'dataset\\database_model\\date_dim.csv'\n",
    "\n",
    "load_data_from_csv(csv_file_path)\n",
    "print('dim_table data loaded successfully')\n",
    "\n",
    "\n"
   ]
  },
  {
   "cell_type": "code",
   "execution_count": 72,
   "metadata": {},
   "outputs": [
    {
     "name": "stdout",
     "output_type": "stream",
     "text": [
      "transactions data loaded successfully\n"
     ]
    }
   ],
   "source": [
    "# Loading the data\n",
    "# transactions table\n",
    "import csv\n",
    "def load_data_from_csv(csv_path):\n",
    "    conn =  get_db_connection()\n",
    "    cursor = conn.cursor()\n",
    "    with open(csv_path, 'r') as file:\n",
    "        reader = csv.reader(file)\n",
    "        next(reader)\n",
    "        for row in reader:\n",
    "            cursor.execute(\n",
    "                '''INSERT INTO zulobankdb.transactions (transaction_id, TransactionType, Amount, TransactionDate_ID)\n",
    "                    VALUES (%s, %s, %s, %s);''',\n",
    "                    row\n",
    "            )\n",
    "    conn.commit()\n",
    "    cursor.close()\n",
    "    conn.close()\n",
    "\n",
    "# Provide the csv path to the file\n",
    "csv_file_path = r'dataset\\database_model\\transactions.csv'\n",
    "\n",
    "load_data_from_csv(csv_file_path)\n",
    "print('transactions data loaded successfully')\n",
    "\n",
    "\n"
   ]
  },
  {
   "cell_type": "code",
   "execution_count": 75,
   "metadata": {},
   "outputs": [
    {
     "name": "stdout",
     "output_type": "stream",
     "text": [
      "accounts data loaded successfully\n"
     ]
    }
   ],
   "source": [
    "# Loading the data\n",
    "# accounts table\n",
    "import csv\n",
    "def load_data_from_csv(csv_path):\n",
    "    conn =  get_db_connection()\n",
    "    cursor = conn.cursor()\n",
    "    with open(csv_path, 'r') as file:\n",
    "        reader = csv.reader(file)\n",
    "        next(reader)\n",
    "        for row in reader:\n",
    "            cursor.execute(\n",
    "                '''INSERT INTO zulobankdb.accounts (account_id, AccountType, Balance, OpeningDate_ID)\n",
    "                    VALUES (%s, %s, %s, %s);''',\n",
    "                    row\n",
    "            )\n",
    "    conn.commit()\n",
    "    cursor.close()\n",
    "    conn.close()\n",
    "\n",
    "# Provide the csv path to the file\n",
    "csv_file_path = r'dataset\\database_model\\accounts.csv'\n",
    "\n",
    "load_data_from_csv(csv_file_path)\n",
    "print('accounts data loaded successfully')\n",
    "\n",
    "\n"
   ]
  },
  {
   "cell_type": "code",
   "execution_count": null,
   "metadata": {},
   "outputs": [],
   "source": [
    "# Loading the data\n",
    "# loans table\n",
    "import csv\n",
    "def load_data_from_csv(csv_path):\n",
    "    conn =  get_db_connection()\n",
    "    cursor = conn.cursor()\n",
    "    with open(csv_path, 'r') as file:\n",
    "        reader = csv.reader(file)\n",
    "        next(reader)\n",
    "        for row in reader:\n",
    "            cursor.execute(\n",
    "                '''INSERT INTO zulobankdb.loans (loan_id, LoanAmount, LoanType, StartDate_ID, EndDate_ID,InterestRate)\n",
    "                    VALUES (%s, %s, %s, %s, %s, %s);''',\n",
    "                    row\n",
    "            )\n",
    "    conn.commit()\n",
    "    cursor.close()\n",
    "    conn.close()\n",
    "\n",
    "# Provide the csv path to the file\n",
    "csv_file_path = r'dataset\\database_model\\loans.csv'\n",
    "\n",
    "load_data_from_csv(csv_file_path)\n",
    "print('loans data loaded successfully')\n",
    "\n",
    "\n"
   ]
  },
  {
   "cell_type": "code",
   "execution_count": 82,
   "metadata": {},
   "outputs": [
    {
     "name": "stdout",
     "output_type": "stream",
     "text": [
      "customers data loaded successfully\n"
     ]
    }
   ],
   "source": [
    "# Loading the data\n",
    "# customers table\n",
    "import csv\n",
    "def load_data_from_csv(csv_path):\n",
    "    conn =  get_db_connection()\n",
    "    cursor = conn.cursor()\n",
    "    with open(csv_path, 'r') as file:\n",
    "        reader = csv.reader(file)\n",
    "        next(reader)\n",
    "        for row in reader:\n",
    "            cursor.execute(\n",
    "                '''INSERT INTO zulobankdb.customers (customer_id, first_name, last_name, Email, Phone)\n",
    "                    VALUES (%s, %s, %s, %s, %s);''',\n",
    "                    row\n",
    "            )\n",
    "    conn.commit()\n",
    "    cursor.close()\n",
    "    conn.close()\n",
    "\n",
    "# Provide the csv path to the file\n",
    "csv_file_path = r'dataset\\database_model\\customers.csv'\n",
    "\n",
    "load_data_from_csv(csv_file_path)\n",
    "print('customers data loaded successfully')\n",
    "\n",
    "\n"
   ]
  },
  {
   "cell_type": "code",
   "execution_count": 91,
   "metadata": {},
   "outputs": [
    {
     "name": "stdout",
     "output_type": "stream",
     "text": [
      "zulo_fact_table data loaded successfully\n"
     ]
    }
   ],
   "source": [
    "# Loading the data\n",
    "# fact_table table\n",
    "import csv\n",
    "def load_data_from_csv(csv_path):\n",
    "    conn =  get_db_connection()\n",
    "    cursor = conn.cursor()\n",
    "    with open(csv_path, 'r') as file:\n",
    "        reader = csv.reader(file)\n",
    "        next(reader)\n",
    "        for row in reader:\n",
    "            try:\n",
    "                cursor.execute(\n",
    "                '''INSERT INTO zulobankdb.zulo_fact_table (customer_id, account_id, transaction_id, loan_id)\n",
    "                    VALUES (%s, %s, %s, %s);''',\n",
    "                    row\n",
    "                )\n",
    "            except psycopg2.IntegrityError: #catch foreign key violation\n",
    "                conn.rollback() #Rollback current transaction so you can  continue\n",
    "            else:\n",
    "                conn.commit() # commit if the roll are inserted successfully\n",
    "    conn.commit()\n",
    "    cursor.close()\n",
    "    conn.close()\n",
    "\n",
    "# Provide the csv path to the file\n",
    "csv_file_path = r'dataset\\database_model\\fact_table.csv'\n",
    "\n",
    "load_data_from_csv(csv_file_path)\n",
    "print('zulo_fact_table data loaded successfully')\n",
    "\n",
    "\n"
   ]
  }
 ],
 "metadata": {
  "kernelspec": {
   "display_name": "base",
   "language": "python",
   "name": "python3"
  },
  "language_info": {
   "codemirror_mode": {
    "name": "ipython",
    "version": 3
   },
   "file_extension": ".py",
   "mimetype": "text/x-python",
   "name": "python",
   "nbconvert_exporter": "python",
   "pygments_lexer": "ipython3",
   "version": "3.12.4"
  }
 },
 "nbformat": 4,
 "nbformat_minor": 2
}
